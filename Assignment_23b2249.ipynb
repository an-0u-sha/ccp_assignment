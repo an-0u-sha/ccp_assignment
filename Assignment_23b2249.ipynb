{
 "cells": [
  {
   "cell_type": "markdown",
   "metadata": {},
   "source": [
    "# **Basic Python**"
   ]
  },
  {
   "cell_type": "markdown",
   "metadata": {},
   "source": [
    "## 1.a \n",
    "Give a function F that takes a single argument n. This function should print a sequence of n strings as described in the examples below: <br>\n",
    "Ex: **n = 3**\n",
    "\n",
    "--A--<br>\n",
    "-BAB-<br>\n",
    "CBABC<br>\n",
    "\n",
    "**n = 4**\n",
    "\n",
    "---A---<br>\n",
    "--BAB--<br>\n",
    "-CBABC-<br>\n",
    "DCBABCD"
   ]
  },
  {
   "cell_type": "code",
   "execution_count": 13,
   "metadata": {},
   "outputs": [
    {
     "name": "stdout",
     "output_type": "stream",
     "text": [
      "---------A---------\n",
      "\n",
      "--------BAB--------\n",
      "\n",
      "-------CBABC-------\n",
      "\n",
      "------DCBABCD------\n",
      "\n",
      "-----EDCBABCDE-----\n",
      "\n",
      "----FEDCBABCDEF----\n",
      "\n",
      "---GFEDCBABCDEFG---\n",
      "\n",
      "--HGFEDCBABCDEFGH--\n",
      "\n",
      "-IHGFEDCBABCDEFGHI-\n",
      "\n",
      "JIHGFEDCBABCDEFGHIJ\n",
      "\n",
      "-----A-----\n",
      "\n",
      "----BAB----\n",
      "\n",
      "---CBABC---\n",
      "\n",
      "--DCBABCD--\n",
      "\n",
      "-EDCBABCDE-\n",
      "\n",
      "FEDCBABCDEF\n",
      "\n"
     ]
    }
   ],
   "source": [
    "def F(n):\n",
    "    for i in range(n):\n",
    "        seq=\"\".join(\n",
    "            chr(65+ abs(j-i))\n",
    "            for j in range(2*i+1)\n",
    "        )\n",
    "        final_seq=\"-\" * (n-i-1) + seq + \"-\" * (n-i-1)\n",
    "        print(final_seq + \"\\n\")\n",
    "    pass\n",
    "\n",
    "# Tests\n",
    "F(10)\n",
    "F(6)"
   ]
  },
  {
   "cell_type": "markdown",
   "metadata": {},
   "source": [
    "## 1.b\n",
    "Make a function F that takes only one argument, a dictionary(dict) d.\n",
    "The keys of d are integers and the values of d are a tuple of type (x (int), y (int)).\n",
    "You must print out the dict in the format \"-key-, -x-, -y-\" with each entry in a new line. Print it for each of the three sorted orders, by key values ascending, by x values descending, by y values ascending."
   ]
  },
  {
   "cell_type": "code",
   "execution_count": 15,
   "metadata": {},
   "outputs": [
    {
     "name": "stdout",
     "output_type": "stream",
     "text": [
      "Sorted by keys ascending:\n",
      "-1-, -1-, -2-\n",
      "-2-, --1-, -4-\n",
      "-4-, -2-, -3-\n",
      "-5-, --4-, -3-\n",
      "\n",
      "Sorted by x values descending:\n",
      "-4-, -2-, -3-\n",
      "-1-, -1-, -2-\n",
      "-2-, --1-, -4-\n",
      "-5-, --4-, -3-\n",
      "\n",
      "Sorted by y values ascending:\n",
      "-1-, -1-, -2-\n",
      "-5-, --4-, -3-\n",
      "-4-, -2-, -3-\n",
      "-2-, --1-, -4-\n",
      "Sorted by keys ascending:\n",
      "--8-, -4-, -2-\n",
      "-5-, -9-, --10-\n",
      "-6-, --3-, -4-\n",
      "-7-, -2-, -1-\n",
      "\n",
      "Sorted by x values descending:\n",
      "-5-, -9-, --10-\n",
      "--8-, -4-, -2-\n",
      "-7-, -2-, -1-\n",
      "-6-, --3-, -4-\n",
      "\n",
      "Sorted by y values ascending:\n",
      "-5-, -9-, --10-\n",
      "-7-, -2-, -1-\n",
      "--8-, -4-, -2-\n",
      "-6-, --3-, -4-\n"
     ]
    }
   ],
   "source": [
    "def F(d : dict):\n",
    "    print(\"Sorted by keys ascending:\")\n",
    "    for key in sorted(d.keys()):\n",
    "        x, y = d[key]\n",
    "        print(f\"-{key}-, -{x}-, -{y}-\")\n",
    "    \n",
    "    print(\"\\nSorted by x values descending:\")\n",
    "    for key in sorted(d.keys(), key=lambda k: d[k][0], reverse=True):\n",
    "        x, y = d[key]\n",
    "        print(f\"-{key}-, -{x}-, -{y}-\")\n",
    "    \n",
    "    print(\"\\nSorted by y values ascending:\")\n",
    "    for key in sorted(d.keys(), key=lambda k: d[k][1]):\n",
    "        x, y = d[key]\n",
    "        print(f\"-{key}-, -{x}-, -{y}-\")\n",
    "\n",
    "    pass\n",
    "\n",
    "# Tests\n",
    "F({1 : (1, 2), 2 : (-1, 4), 5 : (-4, 3), 4 : (2, 3)})\n",
    "F({-8 : (4, 2), 6 : (-3, 4), 7 : (2, 1), 5 : (9, -10)})"
   ]
  },
  {
   "cell_type": "markdown",
   "metadata": {},
   "source": [
    "## 2 Working with Student Records\n",
    "\n",
    "Use the data in **student_records.csv** to complete the given tasks. Do not include any external libraries. Use a Python dictionary if required.\n",
    "\n",
    "### Reference\n",
    "- [Python Dictionaries](https://www.w3schools.com/python/python_dictionaries.asp)\n"
   ]
  },
  {
   "cell_type": "markdown",
   "metadata": {},
   "source": [
    "#### 2.a: open the student_records.csv file and print out the first 10 rows"
   ]
  },
  {
   "cell_type": "code",
   "execution_count": 2,
   "metadata": {},
   "outputs": [
    {
     "name": "stdout",
     "output_type": "stream",
     "text": [
      "   roll_number department  credit course_name      course_type grade\n",
      "0       588946         MA       3       EC250  hasmed_elective    AB\n",
      "1       145372         EP       4       EP407  hasmed_elective    CC\n",
      "2       834515         MA       8       EP885  hasmed_elective    BB\n",
      "3       344265        CSE       6      CSE699          honours    AB\n",
      "4       358405         MA       3       EE460            minor    AP\n",
      "5       781075         CE       8       CE540          honours    CC\n",
      "6       180828        CSE       6       CE880            minor    AB\n",
      "7       981238         MM       4      CSE226            minor    AB\n",
      "8       836881         MM       8       MM530             core    AA\n",
      "9       310604         EE       8       EE202             core    AB\n"
     ]
    }
   ],
   "source": [
    "#TODO\n",
    "import pandas as pd\n",
    "df = pd.read_csv('/Users/anousha_puvvala/Downloads/student_records.csv')\n",
    "print(df.head(10))"
   ]
  },
  {
   "cell_type": "markdown",
   "metadata": {},
   "source": [
    "#### 2.b: Print out the total credits and calculte CPI of each student. \n",
    "CPI is the weighted average of core courses, and electives (weights being the letter grades converted to number AP,AA=10, AB=9, BB=9, BC=7, CC=6)"
   ]
  },
  {
   "cell_type": "code",
   "execution_count": 3,
   "metadata": {},
   "outputs": [
    {
     "name": "stdout",
     "output_type": "stream",
     "text": [
      "             total_credits       CPI\n",
      "roll_number                         \n",
      "124663               100.0  8.230000\n",
      "138296               114.0  7.991228\n",
      "143142               135.0  8.562963\n",
      "143856               122.0  8.491803\n",
      "144528               112.0  8.571429\n",
      "...                    ...       ...\n",
      "981238               120.0  8.275000\n",
      "986057               148.0  7.925676\n",
      "993835                99.0  8.424242\n",
      "995208                88.0  7.590909\n",
      "998293               150.0  8.560000\n",
      "\n",
      "[100 rows x 2 columns]\n"
     ]
    },
    {
     "name": "stderr",
     "output_type": "stream",
     "text": [
      "/var/folders/23/0dy32s8d7wqb27pvgk27m4c40000gn/T/ipykernel_22880/1966657168.py:11: DeprecationWarning: DataFrameGroupBy.apply operated on the grouping columns. This behavior is deprecated, and in a future version of pandas the grouping columns will be excluded from the operation. Either pass `include_groups=False` to exclude the groupings or explicitly select the grouping columns after groupby to silence this warning.\n",
      "  result = df.groupby('roll_number').apply(\n"
     ]
    }
   ],
   "source": [
    "#TODO\n",
    "import pandas as pd\n",
    "\n",
    "def cpi(filename):\n",
    "    df = pd.read_csv(filename)\n",
    "    df = df[~df['course_type'].isin(['minor', 'honours', 'alc'])] \n",
    "\n",
    "    grade_points = {'AP': 10, 'AA': 10, 'AB': 9, 'BB': 8, 'BC': 7, 'CC': 6}\n",
    "    df['grade_points'] = df['grade'].map(grade_points)\n",
    "\n",
    "    result = df.groupby('roll_number').apply(\n",
    "        lambda group: pd.Series({\n",
    "            'total_credits': group['credit'].sum(),\n",
    "            'CPI': (group['grade_points'] * group['credit']).sum() / group['credit'].sum()\n",
    "        })\n",
    "    )\n",
    "    print(result)\n",
    "\n",
    "cpi('/Users/anousha_puvvala/Downloads/student_records.csv')\n"
   ]
  },
  {
   "cell_type": "markdown",
   "metadata": {},
   "source": [
    "#### 2.c: Print out the names of all students who meet the graduation requirements \n",
    "Atleast 20 credist of core course, 15 credits of department elective, 10 credits of flexible elective and 5 credits of hasmed electives"
   ]
  },
  {
   "cell_type": "code",
   "execution_count": 11,
   "metadata": {},
   "outputs": [
    {
     "name": "stdout",
     "output_type": "stream",
     "text": [
      "124663\n",
      "143142\n",
      "143856\n",
      "144528\n",
      "150503\n",
      "159438\n",
      "180828\n",
      "203200\n",
      "207443\n",
      "214270\n",
      "265922\n",
      "282482\n",
      "283796\n",
      "294697\n",
      "310604\n",
      "327122\n",
      "362471\n",
      "379479\n",
      "381227\n",
      "388969\n",
      "391848\n",
      "461971\n",
      "482623\n",
      "485484\n",
      "488661\n",
      "500658\n",
      "517837\n",
      "521087\n",
      "534763\n",
      "571782\n",
      "572815\n",
      "581065\n",
      "581858\n",
      "588946\n",
      "608522\n",
      "608952\n",
      "626000\n",
      "628849\n",
      "630568\n",
      "681499\n",
      "692318\n",
      "703403\n",
      "716985\n",
      "721490\n",
      "750259\n",
      "773982\n",
      "781075\n",
      "782129\n",
      "787967\n",
      "810863\n",
      "834515\n",
      "836881\n",
      "845623\n",
      "871746\n",
      "879634\n",
      "881983\n",
      "888886\n",
      "928288\n",
      "955757\n",
      "960395\n",
      "970791\n",
      "971123\n",
      "973158\n",
      "981238\n",
      "986057\n",
      "998293\n"
     ]
    }
   ],
   "source": [
    "#TODO\n",
    "import pandas as pd\n",
    "\n",
    "def graduation_requirements(filename):\n",
    "    df = pd.read_csv(filename)\n",
    "\n",
    "    core_courses = df[df['course_type'] == 'core']\n",
    "    dept_electives = df[df['course_type'] == 'department_elective']\n",
    "    flex_electives = df[df['course_type'] == 'felxible_elective']\n",
    "    hasmed_electives = df[df['course_type'] == 'hasmed_elective']\n",
    "\n",
    "    core_credits = core_courses.groupby('roll_number')['credit'].sum()\n",
    "    dept_elective_credits = dept_electives.groupby('roll_number')['credit'].sum()\n",
    "    flex_elective_credits = flex_electives.groupby('roll_number')['credit'].sum()\n",
    "    hasmed_elective_credits = hasmed_electives.groupby('roll_number')['credit'].sum()\n",
    "\n",
    "    requirements = pd.DataFrame({\n",
    "        'core_credits': core_credits,\n",
    "        'dept_elective_credits': dept_elective_credits,\n",
    "        'flex_elective_credits': flex_elective_credits,\n",
    "        'hasmed_elective_credits': hasmed_elective_credits\n",
    "    })\n",
    "\n",
    "    eligible_students = requirements[\n",
    "        (requirements['core_credits'] >= 20) & \n",
    "        (requirements['dept_elective_credits'] >= 15) & \n",
    "        (requirements['flex_elective_credits'] >= 10) & \n",
    "        (requirements['hasmed_elective_credits'] >= 5)\n",
    "    ]\n",
    "\n",
    "    for student_id in eligible_students.index:\n",
    "        print(student_id)\n",
    "\n",
    "graduation_requirements('/Users/anousha_puvvala/Downloads/student_records.csv')\n"
   ]
  },
  {
   "cell_type": "markdown",
   "metadata": {},
   "source": [
    "#### 2.d: Print out the names of all students who completed a minor \n",
    "Atleast 10 credits with minor tag in a specific department"
   ]
  },
  {
   "cell_type": "code",
   "execution_count": 14,
   "metadata": {},
   "outputs": [
    {
     "name": "stdout",
     "output_type": "stream",
     "text": [
      "124663\n",
      "138296\n",
      "143142\n",
      "143856\n",
      "144528\n",
      "145372\n",
      "150503\n",
      "159438\n",
      "180828\n",
      "194063\n",
      "199713\n",
      "203200\n",
      "207443\n",
      "208100\n",
      "214270\n",
      "265922\n",
      "270007\n",
      "282482\n",
      "283796\n",
      "294697\n",
      "301135\n",
      "327122\n",
      "329535\n",
      "344265\n",
      "358405\n",
      "362471\n",
      "364146\n",
      "379479\n",
      "381227\n",
      "381526\n",
      "388969\n",
      "391848\n",
      "458200\n",
      "461584\n",
      "461971\n",
      "465496\n",
      "478606\n",
      "482623\n",
      "485484\n",
      "488661\n",
      "500658\n",
      "517837\n",
      "521087\n",
      "534763\n",
      "571782\n",
      "572815\n",
      "581065\n",
      "581858\n",
      "582912\n",
      "588946\n",
      "597353\n",
      "608522\n",
      "608952\n",
      "613401\n",
      "626000\n",
      "628849\n",
      "630568\n",
      "680096\n",
      "681499\n",
      "692318\n",
      "703403\n",
      "716985\n",
      "718510\n",
      "721490\n",
      "733782\n",
      "750259\n",
      "773982\n",
      "775967\n",
      "781075\n",
      "782129\n",
      "787967\n",
      "788020\n",
      "810863\n",
      "816041\n",
      "834515\n",
      "836431\n",
      "836881\n",
      "841365\n",
      "845623\n",
      "847809\n",
      "851029\n",
      "871746\n",
      "879634\n",
      "881983\n",
      "888886\n",
      "907454\n",
      "955757\n",
      "960395\n",
      "970791\n",
      "971123\n",
      "973158\n",
      "981238\n",
      "986057\n",
      "993835\n",
      "995208\n",
      "998293\n"
     ]
    }
   ],
   "source": [
    "#TODO\n",
    "import pandas as pd\n",
    "\n",
    "def minor_requirements(filename):\n",
    "    df = pd.read_csv(filename)\n",
    "    minor = df[df['course_type']=='minor']\n",
    "    minor_credits = minor.groupby(['roll_number','department'])['credit'].sum()\n",
    "\n",
    "    minor_completed = minor_credits[minor_credits>=10]\n",
    "    student_ids = minor_completed.index.get_level_values('roll_number').unique()\n",
    "\n",
    "    for student_id in student_ids:\n",
    "        print(student_id)\n",
    "\n",
    "minor_requirements('/Users/anousha_puvvala/Downloads/student_records.csv')\n",
    "\n",
    "    "
   ]
  },
  {
   "cell_type": "markdown",
   "metadata": {},
   "source": [
    "#### 2.e: Print out the names of all students who completed a honours\n",
    "Atleast 10 credits with honours tag and 20 core credits"
   ]
  },
  {
   "cell_type": "code",
   "execution_count": 17,
   "metadata": {},
   "outputs": [
    {
     "name": "stdout",
     "output_type": "stream",
     "text": [
      "124663\n",
      "143142\n",
      "143856\n",
      "144528\n",
      "145372\n",
      "150503\n",
      "159438\n",
      "199713\n",
      "203200\n",
      "207443\n",
      "208100\n",
      "214270\n",
      "265922\n",
      "282482\n",
      "283796\n",
      "294697\n",
      "310604\n",
      "327122\n",
      "362471\n",
      "364146\n",
      "379479\n",
      "388969\n",
      "391848\n",
      "458200\n",
      "461971\n",
      "465496\n",
      "482623\n",
      "485484\n",
      "488661\n",
      "500658\n",
      "517837\n",
      "521087\n",
      "534763\n",
      "571782\n",
      "572815\n",
      "581065\n",
      "581858\n",
      "582912\n",
      "588946\n",
      "589528\n",
      "608522\n",
      "608952\n",
      "613401\n",
      "626000\n",
      "628849\n",
      "630568\n",
      "681499\n",
      "692318\n",
      "703403\n",
      "716985\n",
      "718510\n",
      "721490\n",
      "750259\n",
      "773982\n",
      "781075\n",
      "782129\n",
      "787967\n",
      "788020\n",
      "810863\n",
      "834515\n",
      "836881\n",
      "845623\n",
      "870642\n",
      "871746\n",
      "879634\n",
      "881983\n",
      "888886\n",
      "928288\n",
      "955757\n",
      "960395\n",
      "970791\n",
      "971123\n",
      "973158\n",
      "986057\n",
      "998293\n"
     ]
    }
   ],
   "source": [
    "#TODO\n",
    "import pandas as pd\n",
    "\n",
    "def students_with_honours(filename):\n",
    "    df = pd.read_csv(filename)\n",
    "    honours_courses = df[df['course_type'] == 'honours']\n",
    "    core_courses = df[df['course_type'] == 'core']\n",
    "    honours_credits = honours_courses.groupby('roll_number')['credit'].sum()\n",
    "    core_credits = core_courses.groupby('roll_number')['credit'].sum()\n",
    "    credits = pd.DataFrame({\n",
    "        'honours_credits': honours_credits,\n",
    "        'core_credits': core_credits\n",
    "    })\n",
    "    eligible_students = credits[\n",
    "        (credits['honours_credits'] >= 10) & \n",
    "        (credits['core_credits'] >= 20)\n",
    "    ]\n",
    "    for student_id in eligible_students.index:\n",
    "        print(student_id)\n",
    "\n",
    "students_with_honours('/Users/anousha_puvvala/Downloads/student_records.csv')\n"
   ]
  },
  {
   "cell_type": "markdown",
   "metadata": {},
   "source": [
    "# **SciPy** "
   ]
  },
  {
   "cell_type": "markdown",
   "metadata": {},
   "source": [
    "## Part A\n",
    "Minimize the function $f(x, y) = 2(x - y - 3)^2 + 4(x + 2y + 1)^4$.<br>\n",
    "With the constraints : $ x - y \\ge -3, (x + 2)^2 + (y + 1)^2 \\le 5$ <br>\n",
    "Using scipy.optimize.minimize with constraints. (Hint: Look at the examples in the official documentation)"
   ]
  },
  {
   "cell_type": "code",
   "execution_count": 18,
   "metadata": {},
   "outputs": [
    {
     "name": "stdout",
     "output_type": "stream",
     "text": [
      "Optimal solution found:\n",
      "x = 0.2349, y = -0.9285\n",
      "Minimum value of f(x, y) = 7.3450\n"
     ]
    }
   ],
   "source": [
    "#TODO\n",
    "import numpy as np\n",
    "from scipy.optimize import minimize\n",
    "\n",
    "def objective(var):\n",
    "    x, y = var\n",
    "    return 2 * (x - y - 3)**2 + 4 * (x + 2*y + 1)**4\n",
    "\n",
    "def linear_constraint(var):\n",
    "    x, y = var\n",
    "    return x - y + 3\n",
    "\n",
    "def nonlinear_constraint(var):\n",
    "    x, y = var\n",
    "    return 5 - ((x + 2)**2 + (y + 1)**2)\n",
    "\n",
    "initial_guess = [0, 0]\n",
    "\n",
    "constraints = [\n",
    "    {'type': 'ineq', 'fun': linear_constraint},   \n",
    "    {'type': 'ineq', 'fun': nonlinear_constraint} \n",
    "]\n",
    "\n",
    "result = minimize(objective, initial_guess, constraints=constraints, method='SLSQP')\n",
    "\n",
    "if result.success:\n",
    "    print(\"Optimal solution found:\")\n",
    "    print(f\"x = {result.x[0]:.4f}, y = {result.x[1]:.4f}\")\n",
    "    print(f\"Minimum value of f(x, y) = {result.fun:.4f}\")\n",
    "else:\n",
    "    print(\"Optimization failed:\", result.message)\n"
   ]
  },
  {
   "cell_type": "markdown",
   "metadata": {},
   "source": [
    "# Part B\n",
    "Evaluate the line integral of the function $f(x, y) = x^2 + y^4$ along the circle $ x^2 + y^2 = 3 $ anticlockwise (scalar integral, not vector). You must use scipy for integration but you may use parameterization"
   ]
  },
  {
   "cell_type": "code",
   "execution_count": 19,
   "metadata": {},
   "outputs": [
    {
     "name": "stdout",
     "output_type": "stream",
     "text": [
      "Line integral result: 53.053631\n",
      "Estimated error: 5.376845e-09\n"
     ]
    }
   ],
   "source": [
    "#TODO\n",
    "import numpy as np\n",
    "from scipy.integrate import quad\n",
    "\n",
    "def f(t):\n",
    "    x = np.sqrt(3) * np.cos(t)\n",
    "    y = np.sqrt(3) * np.sin(t)\n",
    "    return np.sqrt(3) * (x**2 + y**4)\n",
    "\n",
    "result, error = quad(f, 0, 2 * np.pi)\n",
    "\n",
    "print(f\"Line integral result: {result:.6f}\")\n",
    "print(f\"Estimated error: {error:.6e}\")\n"
   ]
  },
  {
   "cell_type": "markdown",
   "metadata": {},
   "source": [
    "# **Numpy**"
   ]
  },
  {
   "cell_type": "markdown",
   "metadata": {},
   "source": [
    "### Read Lisan_Al_Gaib.pdf for problem description and complete the following functions"
   ]
  },
  {
   "cell_type": "code",
   "execution_count": null,
   "metadata": {},
   "outputs": [],
   "source": [
    "import time # to time the execution\n",
    "import numpy as np\n",
    "import matplotlib.pyplot as plt"
   ]
  },
  {
   "cell_type": "code",
   "execution_count": 20,
   "metadata": {},
   "outputs": [
    {
     "data": {
      "text/plain": [
       "array([[-2.12729941e+00,  1.75357153e+00],\n",
       "       [-3.40030291e-01, -6.70757901e-03],\n",
       "       [-3.21990680e+00, -2.22002740e+00],\n",
       "       [-3.70958194e+00,  1.33088073e+00],\n",
       "       [-9.94424941e-01,  5.40362889e-01],\n",
       "       [-3.89707753e+00,  1.84954926e+00],\n",
       "       [ 1.62213204e-01, -1.93830445e+00],\n",
       "       [-3.09087516e+00, -2.08297745e+00],\n",
       "       [-2.47878879e+00, -3.76217842e-01],\n",
       "       [-1.84027491e+00, -1.54385430e+00],\n",
       "       [-9.40735526e-01, -2.30253070e+00],\n",
       "       [-2.53927676e+00, -1.16819078e+00],\n",
       "       [-1.71965008e+00,  9.25879807e-01],\n",
       "       [-3.00163109e+00, -4.28827808e-01],\n",
       "       [-1.03792716e+00, -2.76774794e+00],\n",
       "       [-9.62275740e-01, -2.14737938e+00],\n",
       "       [-3.67474204e+00,  1.74442769e+00],\n",
       "       [ 8.28160165e-01,  1.04198674e+00],\n",
       "       [-2.47693115e+00, -2.51163943e+00],\n",
       "       [-5.78834867e-01, -7.99237531e-01],\n",
       "       [-3.38980883e+00, -5.24115449e-01],\n",
       "       [-3.82805739e+00,  1.54660201e+00],\n",
       "       [-2.70610009e+00,  3.12611422e-01],\n",
       "       [-2.44144462e+00, -3.99659894e-01],\n",
       "       [-1.26644860e+00, -2.07572772e+00],\n",
       "       [ 8.47923139e-01,  8.75664117e-01],\n",
       "       [ 6.97494708e-01,  1.47413675e+00],\n",
       "       [-1.01050011e+00,  1.60937118e+00],\n",
       "       [-3.55753749e+00, -2.02008569e+00],\n",
       "       [-3.77386356e+00, -1.37334835e+00],\n",
       "       [ 3.94338645e+00,  4.35674516e+00],\n",
       "       [ 6.14368755e+00,  4.78376663e+00],\n",
       "       [ 3.40467255e+00,  5.71348042e+00],\n",
       "       [ 2.70462112e+00,  7.01098490e+00],\n",
       "       [ 2.37275322e+00,  7.93443468e+00],\n",
       "       [ 5.86122385e+00,  3.99357841e+00],\n",
       "       [ 2.02761059e+00,  7.07730714e+00],\n",
       "       [ 5.53428672e+00,  6.64503584e+00],\n",
       "       [ 5.85635173e+00,  3.37022326e+00],\n",
       "       [ 3.79232864e+00,  3.57934530e+00],\n",
       "       [ 6.31551713e+00,  6.11649063e+00],\n",
       "       [ 3.65449012e+00,  3.31779175e+00],\n",
       "       [ 3.55491161e+00,  4.62591661e+00],\n",
       "       [ 5.64803089e+00,  6.18778736e+00],\n",
       "       [ 6.43606371e+00,  5.36107463e+00],\n",
       "       [ 2.59797123e+00,  6.56622394e+00],\n",
       "       [ 5.80392524e+00,  5.80638599e+00],\n",
       "       [ 5.85483590e+00,  5.46897798e+00],\n",
       "       [ 4.61366415e+00,  5.13770509e+00],\n",
       "       [ 2.12709563e+00,  3.53945713e+00],\n",
       "       [ 2.15714593e+00,  6.18205206e+00],\n",
       "       [ 3.57177991e+00,  5.54285346e+00],\n",
       "       [ 6.53783237e+00,  4.24646115e+00],\n",
       "       [ 4.05191462e+00,  6.77775569e+00],\n",
       "       [ 3.14399083e+00,  3.38489955e+00],\n",
       "       [ 3.44875726e+00,  3.80610644e+00],\n",
       "       [ 6.64848826e+00,  7.04060190e+00],\n",
       "       [ 5.16701878e+00,  7.35730295e+00],\n",
       "       [ 6.01836038e+00,  3.93285029e+00],\n",
       "       [ 6.46279499e+00,  5.69671121e+00]])"
      ]
     },
     "execution_count": 20,
     "metadata": {},
     "output_type": "execute_result"
    }
   ],
   "source": [
    "### TODO 1\n",
    "### Load data from data_path\n",
    "### Check the input file spice_locations.txt to understand the Data Format\n",
    "### Return : np array of size Nx2\n",
    "import numpy as np\n",
    "def load_data(data_path):\n",
    "    try:\n",
    "        coordinates = np.loadtxt(data_path, delimiter=',')\n",
    "        return coordinates\n",
    "    except Exception as e:\n",
    "        print(f\"An error occurred while loading the file: {e}\")\n",
    "        return None\n",
    "file_path=('/Users/anousha_puvvala/Downloads/spice_locations.txt')\n",
    "load_data(file_path)"
   ]
  },
  {
   "cell_type": "code",
   "execution_count": 28,
   "metadata": {},
   "outputs": [
    {
     "name": "stdout",
     "output_type": "stream",
     "text": [
      "[[-3.67474204  1.74442769]\n",
      " [-1.03792716 -2.76774794]]\n"
     ]
    }
   ],
   "source": [
    "### TODO 2.1\n",
    "### If init_centers is None, initialize the centers by selecting K data points at random without replacement\n",
    "### Else, use the centers provided in init_centers\n",
    "### Return : np array of size Kx2\n",
    "import numpy as np\n",
    "\n",
    "def initialize_centers(data, K, init_centers=None):\n",
    "    if init_centers is None:\n",
    "        indices = np.random.choice(data.shape[0], size=K, replace=False)\n",
    "        centers = data[indices]\n",
    "        return centers\n",
    "    else:\n",
    "        return None\n",
    "    \n",
    "k=2\n",
    "centers=initialize_centers(load_data(file_path),k)\n",
    "print(centers)\n"
   ]
  },
  {
   "cell_type": "code",
   "execution_count": 29,
   "metadata": {},
   "outputs": [
    {
     "data": {
      "text/plain": [
       "array([1., 1., 1., 1., 1., 1., 1., 1., 1., 1., 1., 1., 1., 1., 1., 1., 1.,\n",
       "       1., 1., 1., 1., 1., 1., 1., 1., 1., 1., 1., 1., 1., 1., 1., 1., 1.,\n",
       "       1., 1., 1., 1., 1., 1., 1., 1., 1., 1., 1., 1., 1., 1., 1., 1., 1.,\n",
       "       1., 1., 1., 1., 1., 1., 1., 1., 1.])"
      ]
     },
     "execution_count": 29,
     "metadata": {},
     "output_type": "execute_result"
    }
   ],
   "source": [
    "### TODO 2.2\n",
    "### Initialize the labels to all ones to size (N,) where N is the number of data points\n",
    "### Return : np array of size N\n",
    "import numpy as np\n",
    "\n",
    "def initialize_labels(data):\n",
    "    N = data.shape[0]  \n",
    "    labels = np.ones(N)  \n",
    "    return labels\n",
    "initialize_labels(load_data(file_path))"
   ]
  },
  {
   "cell_type": "code",
   "execution_count": 32,
   "metadata": {},
   "outputs": [
    {
     "name": "stdout",
     "output_type": "stream",
     "text": [
      "[[ 1.54746964  4.6507055 ]\n",
      " [ 3.76653384  2.84787708]\n",
      " [ 3.99046103  2.24967396]\n",
      " [ 0.41501193  4.89249386]\n",
      " [ 2.93834507  3.30839684]\n",
      " [ 0.24593417  5.43085392]\n",
      " [ 5.3183401   1.45887401]\n",
      " [ 3.87168317  2.16414097]\n",
      " [ 2.43463378  2.79204198]\n",
      " [ 3.76537755  1.46344715]\n",
      " [ 4.88391889  0.47526129]\n",
      " [ 3.12612024  2.19377157]\n",
      " [ 2.11952947  3.75601279]\n",
      " [ 2.2751083   3.05396144]\n",
      " [ 5.2261383   0.        ]\n",
      " [ 4.74379971  0.62496422]\n",
      " [ 0.          5.2261383 ]\n",
      " [ 4.55736234  4.24221171]\n",
      " [ 4.42140907  1.46161694]\n",
      " [ 4.00685337  2.02133593]\n",
      " [ 2.28636718  3.25042061]\n",
      " [ 0.25028104  5.13794144]\n",
      " [ 1.72868882  3.50305791]\n",
      " [ 2.47348622  2.75276266]\n",
      " [ 4.51591238  0.72877571]\n",
      " [ 4.60535019  4.10254588]\n",
      " [ 4.38058345  4.58315118]\n",
      " [ 2.66766289  4.37720504]\n",
      " [ 3.76633746  2.62819997]\n",
      " [ 3.11935129  3.07078137]\n",
      " [ 8.05357586  8.69320925]\n",
      " [10.27809032 10.42117853]\n",
      " [ 8.11612533  9.57433687]\n",
      " [ 8.27241798 10.47044811]\n",
      " [ 8.65380757 11.23251768]\n",
      " [ 9.7976183   9.65990779]\n",
      " [ 7.80745981 10.31128659]\n",
      " [10.43178656 11.48017829]\n",
      " [ 9.66876205  9.23069725]\n",
      " [ 7.68921759  7.9760243 ]\n",
      " [10.90505445 11.53268563]\n",
      " [ 7.49620694  7.68456721]\n",
      " [ 7.78272897  8.70404753]\n",
      " [10.32751375 11.17603004]\n",
      " [10.73818085 11.04256744]\n",
      " [ 7.91180452 10.01712474]\n",
      " [10.31235369 10.96935353]\n",
      " [10.23157517 10.74029033]\n",
      " [ 8.95611571  9.71785325]\n",
      " [ 6.07317471  7.05678433]\n",
      " [ 7.32826223  9.5030212 ]\n",
      " [ 8.18169411  9.50344646]\n",
      " [10.51460163 10.3243044 ]\n",
      " [ 9.22147569 10.8177229 ]\n",
      " [ 7.01329208  7.43932182]\n",
      " [ 7.4158453   7.95901366]\n",
      " [11.60252322 12.46132852]\n",
      " [10.47287463 11.8751004 ]\n",
      " [ 9.93707341  9.73083812]\n",
      " [10.88072617 11.30963754]]\n"
     ]
    }
   ],
   "source": [
    "### TODO 3.1 : E step\n",
    "### For Each data point, find the distance to each center\n",
    "### Return : np array of size NxK\n",
    "import numpy as np\n",
    "\n",
    "def compute_distances(data, centers):\n",
    "    N = data.shape[0] \n",
    "    K = centers.shape[0] \n",
    "    distances = np.zeros((N, K))  \n",
    "    for i in range(N):\n",
    "        for j in range(K):\n",
    "            distances[i, j] = np.linalg.norm(data[i] - centers[j])\n",
    "    return distances\n",
    "distances=compute_distances(load_data(file_path),centers)\n",
    "print(distances)\n"
   ]
  },
  {
   "cell_type": "code",
   "execution_count": 36,
   "metadata": {},
   "outputs": [
    {
     "name": "stdout",
     "output_type": "stream",
     "text": [
      "[0 1 1 0 0 0 1 1 0 1 1 1 0 0 1 1 0 1 1 1 0 0 0 0 1 1 0 0 1 1 0 0 0 0 0 1 0\n",
      " 0 1 0 0 0 0 0 0 0 0 0 0 0 0 0 1 0 0 0 0 0 1 0]\n"
     ]
    }
   ],
   "source": [
    "### TODO 3.2 : E step\n",
    "### For Each data point, assign the label of the nearest center\n",
    "### Return : np array of size N\n",
    "def update_labels(distances):\n",
    "    try:\n",
    "        labels = np.argmin(distances, axis=1)\n",
    "        return labels\n",
    "    except Exception as e:\n",
    "        return None\n",
    "labels=update_labels(distances)\n",
    "print(labels)"
   ]
  },
  {
   "cell_type": "code",
   "execution_count": 39,
   "metadata": {},
   "outputs": [
    {
     "name": "stdout",
     "output_type": "stream",
     "text": [
      "[[1.92250327 3.90939417]\n",
      " [0.         0.        ]]\n"
     ]
    }
   ],
   "source": [
    "### TODO 4 : M step\n",
    "### Update the centers to the mean of the data points assigned to it\n",
    "### Return : np array of size Kx2\n",
    "import numpy as np\n",
    "\n",
    "def update_centers(data, labels, K):\n",
    "    updated_centers = np.zeros((K, 2))  \n",
    "    try:\n",
    "        for k in range(K):\n",
    "            assigned_points = data[labels == k]\n",
    "            if len(assigned_points) > 0:\n",
    "                updated_centers[k] = np.mean(assigned_points, axis=0)\n",
    "                return updated_centers\n",
    "    except Exception as e:\n",
    "        return None\n",
    "updated_centers=update_centers(load_data(file_path),labels,2)\n",
    "print(updated_centers)"
   ]
  },
  {
   "cell_type": "code",
   "execution_count": 40,
   "metadata": {},
   "outputs": [
    {
     "data": {
      "text/plain": [
       "False"
      ]
     },
     "execution_count": 40,
     "metadata": {},
     "output_type": "execute_result"
    }
   ],
   "source": [
    "### TODO 6 : Check convergence\n",
    "### Check if the labels have changed from the previous iteration\n",
    "### Return : True / False\n",
    "def check_termination(labels1, labels2):\n",
    "    try:\n",
    "        return (np.array_equal(labels, updated_labels))\n",
    "    except Exception as e:\n",
    "        return None\n",
    "updated_labels=update_labels(compute_distances(load_data(file_path),updated_centers))\n",
    "check_termination(labels, updated_labels)"
   ]
  },
  {
   "cell_type": "code",
   "execution_count": 48,
   "metadata": {},
   "outputs": [],
   "source": [
    "### DON'T CHANGE ANYTHING IN THE FOLLOWING FUNCTION\n",
    "import time\n",
    "def kmeans(data_path:str, K:int, init_centers):\n",
    "    '''\n",
    "    Input :\n",
    "        data (type str): path to the file containing the data\n",
    "        K (type int): number of clusters\n",
    "        init_centers (type numpy.ndarray): initial centers. shape = (K, 2) or None\n",
    "    Output :\n",
    "        centers (type numpy.ndarray): final centers. shape = (K, 2)\n",
    "        labels (type numpy.ndarray): label of each data point. shape = (N,)\n",
    "        time (type float): time taken by the algorithm to converge in seconds\n",
    "    N is the number of data points each of shape (2,)\n",
    "    '''\n",
    "    data = load_data(data_path)    \n",
    "    centers = initialize_centers(data, K, init_centers)\n",
    "    labels = initialize_labels(data)\n",
    "\n",
    "    start_time = time.time() # Time stamp \n",
    "\n",
    "    while True:\n",
    "        distances = compute_distances(data, centers)\n",
    "        labels_new = update_labels(distances)\n",
    "        centers = update_centers(data, labels_new, K)\n",
    "        if check_termination(labels, labels_new): break\n",
    "        else: labels = labels_new\n",
    " \n",
    "    end_time = time.time() # Time stamp after the algorithm ends\n",
    "    return centers, labels, end_time - start_time "
   ]
  },
  {
   "cell_type": "code",
   "execution_count": 44,
   "metadata": {},
   "outputs": [
    {
     "data": {
      "text/plain": [
       "<module 'matplotlib.pyplot' from '/opt/anaconda3/lib/python3.12/site-packages/matplotlib/pyplot.py'>"
      ]
     },
     "execution_count": 44,
     "metadata": {},
     "output_type": "execute_result"
    },
    {
     "data": {
      "image/png": "[encoded data removed]",
      "text/plain": [
       "<Figure size 640x480 with 1 Axes>"
      ]
     },
     "metadata": {},
     "output_type": "display_data"
    }
   ],
   "source": [
    "### TODO 7\n",
    "import matplotlib.pyplot as plt\n",
    "def visualise(data_path, labels, centers):\n",
    "    data = load_data(data_path)\n",
    "\n",
    "    # Scatter plot of the data points\n",
    "    plt.scatter(data[:, 0], data[:, 1], c=labels, s=50, cmap='viridis')\n",
    "    plt.scatter(centers[:, 0], centers[:, 1], c='black', s=200, alpha=0.5)\n",
    "\n",
    "    ### Set title as 'K-means clustering'\n",
    "\n",
    "    ### Set xlabel as 'Longitude'\n",
    "\n",
    "    ### Set ylabel as 'Latitude'\n",
    "\n",
    "    ### Save the plot as 'kmeans.png'\n",
    "\n",
    "\n",
    "    ## DO NOT CHANGE THE FOLLOWING LINE\n",
    "    return plt\n",
    "visualise(file_path, updated_labels, updated_centers)"
   ]
  },
  {
   "cell_type": "code",
   "execution_count": null,
   "metadata": {},
   "outputs": [],
   "source": [
    "### After you have completed the above functions, run the following code to generate the plot\n",
    "data_path = file_path\n",
    "K, init_centers = 2, None\n",
    "centers, labels, time_taken = kmeans(data_path, K, init_centers)\n",
    "print('Time taken for the algorithm to converge:', time_taken)\n",
    "visualise(data_path, labels, centers)"
   ]
  }
 ],
 "metadata": {
  "kernelspec": {
   "display_name": "Python 3",
   "language": "python",
   "name": "python3"
  },
  "language_info": {
   "codemirror_mode": {
    "name": "ipython",
    "version": 3
   },
   "file_extension": ".py",
   "mimetype": "text/x-python",
   "name": "python",
   "nbconvert_exporter": "python",
   "pygments_lexer": "ipython3",
   "version": "3.12.4"
  }
 },
 "nbformat": 4,
 "nbformat_minor": 2
}
