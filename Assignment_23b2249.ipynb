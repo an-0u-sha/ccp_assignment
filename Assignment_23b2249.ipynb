{
 "cells": [
  {
   "cell_type": "markdown",
   "metadata": {},
   "source": [
    "# **Basic Python**"
   ]
  },
  {
   "cell_type": "markdown",
   "metadata": {},
   "source": [
    "## 1.a \n",
    "Give a function F that takes a single argument n. This function should print a sequence of n strings as described in the examples below: <br>\n",
    "Ex: **n = 3**\n",
    "\n",
    "--A--<br>\n",
    "-BAB-<br>\n",
    "CBABC<br>\n",
    "\n",
    "**n = 4**\n",
    "\n",
    "---A---<br>\n",
    "--BAB--<br>\n",
    "-CBABC-<br>\n",
    "DCBABCD"
   ]
  },
  {
   "cell_type": "code",
   "execution_count": 23,
   "metadata": {},
   "outputs": [
    {
     "name": "stdout",
     "output_type": "stream",
     "text": [
      "---------A---------\n",
      "\n",
      "--------BAB--------\n",
      "\n",
      "-------CBABC-------\n",
      "\n",
      "------DCBABCD------\n",
      "\n",
      "-----EDCBABCDE-----\n",
      "\n",
      "----FEDCBABCDEF----\n",
      "\n",
      "---GFEDCBABCDEFG---\n",
      "\n",
      "--HGFEDCBABCDEFGH--\n",
      "\n",
      "-IHGFEDCBABCDEFGHI-\n",
      "\n",
      "JIHGFEDCBABCDEFGHIJ\n",
      "\n",
      "-----A-----\n",
      "\n",
      "----BAB----\n",
      "\n",
      "---CBABC---\n",
      "\n",
      "--DCBABCD--\n",
      "\n",
      "-EDCBABCDE-\n",
      "\n",
      "FEDCBABCDEF\n",
      "\n"
     ]
    }
   ],
   "source": [
    "def F(n):\n",
    "    for i in range(n):\n",
    "        seq=\"\".join(\n",
    "            chr(65+ abs(j-i))\n",
    "            for j in range(2*i+1)\n",
    "        )\n",
    "        final_seq=\"-\" * (n-i-1) + seq + \"-\" * (n-i-1)\n",
    "        print(final_seq + \"\\n\")\n",
    "    pass\n",
    "\n",
    "# Tests\n",
    "F(10)\n",
    "F(6)"
   ]
  },
  {
   "cell_type": "markdown",
   "metadata": {},
   "source": [
    "## 1.b\n",
    "Make a function F that takes only one argument, a dictionary(dict) d.\n",
    "The keys of d are integers and the values of d are a tuple of type (x (int), y (int)).\n",
    "You must print out the dict in the format \"-key-, -x-, -y-\" with each entry in a new line. Print it for each of the three sorted orders, by key values ascending, by x values descending, by y values ascending."
   ]
  },
  {
   "cell_type": "code",
   "execution_count": 24,
   "metadata": {},
   "outputs": [
    {
     "name": "stdout",
     "output_type": "stream",
     "text": [
      "Sorted by keys ascending:\n",
      "-1-, -1-, -2-\n",
      "-2-, --1-, -4-\n",
      "-4-, -2-, -3-\n",
      "-5-, --4-, -3-\n",
      "\n",
      "Sorted by x values descending:\n",
      "-4-, -2-, -3-\n",
      "-1-, -1-, -2-\n",
      "-2-, --1-, -4-\n",
      "-5-, --4-, -3-\n",
      "\n",
      "Sorted by y values ascending:\n",
      "-1-, -1-, -2-\n",
      "-5-, --4-, -3-\n",
      "-4-, -2-, -3-\n",
      "-2-, --1-, -4-\n",
      "Sorted by keys ascending:\n",
      "--8-, -4-, -2-\n",
      "-5-, -9-, --10-\n",
      "-6-, --3-, -4-\n",
      "-7-, -2-, -1-\n",
      "\n",
      "Sorted by x values descending:\n",
      "-5-, -9-, --10-\n",
      "--8-, -4-, -2-\n",
      "-7-, -2-, -1-\n",
      "-6-, --3-, -4-\n",
      "\n",
      "Sorted by y values ascending:\n",
      "-5-, -9-, --10-\n",
      "-7-, -2-, -1-\n",
      "--8-, -4-, -2-\n",
      "-6-, --3-, -4-\n"
     ]
    }
   ],
   "source": [
    "def F(d : dict):\n",
    "    print(\"Sorted by keys ascending:\")\n",
    "    for key in sorted(d.keys()):\n",
    "        x, y = d[key]\n",
    "        print(f\"-{key}-, -{x}-, -{y}-\")\n",
    "    \n",
    "    print(\"\\nSorted by x values descending:\")\n",
    "    for key in sorted(d.keys(), key=lambda k: d[k][0], reverse=True):\n",
    "        x, y = d[key]\n",
    "        print(f\"-{key}-, -{x}-, -{y}-\")\n",
    "    \n",
    "    print(\"\\nSorted by y values ascending:\")\n",
    "    for key in sorted(d.keys(), key=lambda k: d[k][1]):\n",
    "        x, y = d[key]\n",
    "        print(f\"-{key}-, -{x}-, -{y}-\")\n",
    "\n",
    "    pass\n",
    "\n",
    "# Tests\n",
    "F({1 : (1, 2), 2 : (-1, 4), 5 : (-4, 3), 4 : (2, 3)})\n",
    "F({-8 : (4, 2), 6 : (-3, 4), 7 : (2, 1), 5 : (9, -10)})"
   ]
  },
  {
   "cell_type": "markdown",
   "metadata": {},
   "source": [
    "## 2 Working with Student Records\n",
    "\n",
    "Use the data in **student_records.csv** to complete the given tasks. Do not include any external libraries. Use a Python dictionary if required.\n",
    "\n",
    "### Reference\n",
    "- [Python Dictionaries](https://www.w3schools.com/python/python_dictionaries.asp)\n"
   ]
  },
  {
   "cell_type": "markdown",
   "metadata": {},
   "source": [
    "#### 2.a: open the student_records.csv file and print out the first 10 rows"
   ]
  },
  {
   "cell_type": "code",
   "execution_count": 68,
   "metadata": {},
   "outputs": [
    {
     "name": "stdout",
     "output_type": "stream",
     "text": [
      "588946 MA 3 EC250 hasmed_elective AB\n",
      "145372 EP 4 EP407 hasmed_elective CC\n",
      "834515 MA 8 EP885 hasmed_elective BB\n",
      "344265 CSE 6 CSE699 honours AB\n",
      "358405 MA 3 EE460 minor AP\n",
      "781075 CE 8 CE540 honours CC\n",
      "180828 CSE 6 CE880 minor AB\n",
      "981238 MM 4 CSE226 minor AB\n",
      "836881 MM 8 MM530 core AA\n",
      "310604 EE 8 EE202 core AB\n"
     ]
    }
   ],
   "source": [
    "#TODO\n",
    "file_path = \"/Users/anousha_puvvala/Downloads/student_records.csv\"\n",
    "with open(file_path, 'r') as file:\n",
    "    next(file)\n",
    "    for i, line in enumerate(file):\n",
    "        fields = line.strip().split(',')\n",
    "        roll_number, department, credit, course_name, course_type, grade = fields\n",
    "        print(f\"{roll_number} {department} {credit} {course_name} {course_type} {grade}\")\n",
    "        if i == 9:\n",
    "            break\n"
   ]
  },
  {
   "cell_type": "markdown",
   "metadata": {},
   "source": [
    "#### 2.b: Print out the total credits and calculte CPI of each student. \n",
    "CPI is the weighted average of core courses, and electives (weights being the letter grades converted to number AP,AA=10, AB=9, BB=9, BC=7, CC=6)"
   ]
  },
  {
   "cell_type": "code",
   "execution_count": 49,
   "metadata": {},
   "outputs": [
    {
     "name": "stdout",
     "output_type": "stream",
     "text": [
      "Roll Number     Total Credits   CPI  \n",
      "588946          199             8.69\n",
      "145372          173             7.75\n",
      "834515          199             8.22\n",
      "344265          153             8.70\n",
      "358405          206             8.59\n",
      "781075          246             8.17\n",
      "180828          177             8.10\n",
      "981238          168             8.24\n",
      "836881          246             8.39\n",
      "310604          198             8.33\n",
      "847809          261             8.21\n",
      "773982          264             8.07\n",
      "500658          208             8.17\n",
      "810863          192             8.15\n",
      "124663          229             8.13\n",
      "364146          225             8.40\n",
      "871746          216             8.21\n",
      "270007          241             8.03\n",
      "597353          200             8.12\n",
      "986057          199             8.07\n",
      "718510          184             8.43\n",
      "836431          160             7.90\n",
      "379479          260             8.25\n",
      "582912          221             8.66\n",
      "788020          193             8.02\n",
      "613401          209             8.44\n",
      "144528          228             8.16\n",
      "485484          216             8.36\n",
      "680096          153             8.05\n",
      "199713          172             8.29\n",
      "851029          161             8.32\n",
      "845623          237             8.38\n",
      "150503          173             8.29\n",
      "214270          229             7.88\n",
      "517837          205             8.58\n",
      "482623          254             8.40\n",
      "721490          235             8.34\n",
      "955757          251             8.29\n",
      "589528          153             8.73\n",
      "143856          201             8.49\n",
      "571782          217             8.42\n",
      "973158          193             8.51\n",
      "703403          254             8.34\n",
      "960395          262             8.63\n",
      "521087          223             7.91\n",
      "461971          252             8.29\n",
      "879634          203             8.74\n",
      "716985          185             8.18\n",
      "194063          157             8.14\n",
      "265922          236             8.35\n",
      "283796          211             8.82\n",
      "203200          157             8.79\n",
      "301135          206             8.33\n",
      "327122          246             8.16\n",
      "381526          160             8.43\n",
      "534763          158             7.93\n",
      "391848          217             8.44\n",
      "329535          157             8.23\n",
      "971123          210             7.96\n",
      "207443          161             8.30\n",
      "488661          248             8.60\n",
      "782129          184             8.54\n",
      "928288          191             8.51\n",
      "581858          216             8.05\n",
      "733782          169             8.42\n",
      "282482          228             8.29\n",
      "572815          212             8.32\n",
      "608952          251             8.33\n",
      "628849          183             8.72\n",
      "630568          217             8.24\n",
      "388969          229             8.31\n",
      "159438          176             8.38\n",
      "478606          244             8.32\n",
      "995208          157             7.78\n",
      "841365          177             7.99\n",
      "870642          161             8.02\n",
      "970791          220             8.12\n",
      "143142          234             8.78\n",
      "998293          207             8.70\n",
      "907454          245             8.27\n",
      "681499          234             8.26\n",
      "888886          207             8.27\n",
      "608522          159             8.61\n",
      "362471          214             7.93\n",
      "465496          168             8.30\n",
      "208100          182             8.59\n",
      "138296          200             8.28\n",
      "775967          197             8.43\n",
      "692318          216             8.17\n",
      "461584          234             8.24\n",
      "626000          210             8.43\n",
      "458200          190             8.39\n",
      "581065          196             8.22\n",
      "787967          192             8.41\n",
      "381227          179             8.22\n",
      "750259          209             8.35\n",
      "881983          169             8.33\n",
      "294697          269             8.57\n",
      "816041          158             8.46\n",
      "993835          175             8.43\n"
     ]
    }
   ],
   "source": [
    "#TODO\n",
    "grade_to_points = {\n",
    "    'AP': 10, 'AA': 10,\n",
    "    'AB': 9, 'BB': 8,\n",
    "    'BC': 7, 'CC': 6\n",
    "}\n",
    "file_path = \"/Users/anousha_puvvala/Downloads/student_records.csv\"\n",
    "student_data = {}\n",
    "with open(file_path, 'r') as file:\n",
    "    next(file) # skip the header\n",
    "    \n",
    "    for line in file:\n",
    "        fields = line.strip().split(',')\n",
    "        roll_number, department, credit, course_name, course_type, grade = fields\n",
    "        credit = int(credit)\n",
    "        grade_points = grade_to_points.get(grade, 0) \n",
    "\n",
    "        if roll_number not in student_data:\n",
    "            student_data[roll_number] = {\n",
    "                'TotalCredits': 0,\n",
    "                'WeightedPoints': 0,\n",
    "            }  #if initial data of student isnt present\n",
    "\n",
    "        student_data[roll_number]['TotalCredits'] += credit\n",
    "        student_data[roll_number]['WeightedPoints'] += credit * grade_points\n",
    "\n",
    "print(f\"{'Roll Number':<15} {'Total Credits':<15} {'CPI':<5}\")\n",
    "for roll_number, data in student_data.items():\n",
    "    total_credits = data['TotalCredits']\n",
    "    weighted_points = data['WeightedPoints']\n",
    "    cpi = weighted_points / total_credits if total_credits > 0 else 0\n",
    "    print(f\"{roll_number:<15} {total_credits:<15} {cpi:.2f}\")\n",
    "\n",
    "\n"
   ]
  },
  {
   "cell_type": "markdown",
   "metadata": {},
   "source": [
    "#### 2.c: Print out the names of all students who meet the graduation requirements \n",
    "Atleast 20 credist of core course, 15 credits of department elective, 10 credits of flexible elective and 5 credits of hasmed electives"
   ]
  },
  {
   "cell_type": "code",
   "execution_count": 57,
   "metadata": {},
   "outputs": [
    {
     "name": "stdout",
     "output_type": "stream",
     "text": [
      "Students meeting graduation requirements:\n",
      "588946\n",
      "834515\n",
      "781075\n",
      "180828\n",
      "981238\n",
      "836881\n",
      "310604\n",
      "773982\n",
      "500658\n",
      "810863\n",
      "124663\n",
      "871746\n",
      "986057\n",
      "379479\n",
      "144528\n",
      "485484\n",
      "845623\n",
      "150503\n",
      "214270\n",
      "517837\n",
      "482623\n",
      "721490\n",
      "955757\n",
      "143856\n",
      "571782\n",
      "973158\n",
      "703403\n",
      "960395\n",
      "521087\n",
      "461971\n",
      "879634\n",
      "716985\n",
      "265922\n",
      "283796\n",
      "203200\n",
      "327122\n",
      "534763\n",
      "391848\n",
      "971123\n",
      "207443\n",
      "488661\n",
      "782129\n",
      "928288\n",
      "581858\n",
      "282482\n",
      "572815\n",
      "608952\n",
      "628849\n",
      "630568\n",
      "388969\n",
      "159438\n",
      "970791\n",
      "143142\n",
      "998293\n",
      "681499\n",
      "888886\n",
      "608522\n",
      "362471\n",
      "692318\n",
      "626000\n",
      "581065\n",
      "787967\n",
      "381227\n",
      "750259\n",
      "881983\n",
      "294697\n"
     ]
    }
   ],
   "source": [
    "#TODO\n",
    "file_path = \"/Users/anousha_puvvala/Downloads/student_records.csv\"\n",
    "student_data = {}\n",
    "with open(file_path, 'r') as file:\n",
    "    next(file)\n",
    "\n",
    "    for line in file:\n",
    "        fields = line.strip().split(',')\n",
    "        roll_number, department, credit, course_name, course_type, grade = fields\n",
    "        credit = int(credit)\n",
    "\n",
    "        if roll_number not in student_data:\n",
    "            student_data[roll_number] = {\n",
    "                'Credits': {'core': 0, 'department_elective': 0, 'felxible_elective': 0, 'hasmed_elective': 0}\n",
    "            }\n",
    "\n",
    "        if course_type in student_data[roll_number]['Credits']:\n",
    "            student_data[roll_number]['Credits'][course_type] += credit\n",
    "\n",
    "required_credits = {\n",
    "    'core': 20,\n",
    "    'department_elective': 15,\n",
    "    'felxible_elective': 10,\n",
    "    'hasmed_elective': 5\n",
    "}\n",
    "\n",
    "print(\"Students meeting graduation requirements:\")\n",
    "for roll_number, data in student_data.items():\n",
    "    credits = data['Credits']\n",
    "    meets_requirements = all(credits[course_type] >= required_credits[course_type] for course_type in required_credits)\n",
    "\n",
    "    if meets_requirements:\n",
    "        print(roll_number)\n",
    "\n"
   ]
  },
  {
   "cell_type": "markdown",
   "metadata": {},
   "source": [
    "#### 2.d: Print out the names of all students who completed a minor \n",
    "Atleast 10 credits with minor tag in a specific department"
   ]
  },
  {
   "cell_type": "code",
   "execution_count": 63,
   "metadata": {},
   "outputs": [
    {
     "name": "stdout",
     "output_type": "stream",
     "text": [
      "Students who completed a minor :\n",
      "358405\n",
      "180828\n",
      "981238\n",
      "847809\n",
      "270007\n",
      "781075\n",
      "986057\n",
      "124663\n",
      "364146\n",
      "517837\n",
      "721490\n",
      "150503\n",
      "571782\n",
      "716985\n",
      "194063\n",
      "265922\n",
      "482623\n",
      "329535\n",
      "207443\n",
      "810863\n",
      "973158\n",
      "143142\n",
      "970791\n",
      "907454\n",
      "888886\n",
      "608522\n",
      "608952\n",
      "143856\n",
      "773982\n",
      "960395\n",
      "283796\n",
      "461584\n",
      "879634\n",
      "597353\n",
      "845623\n",
      "465496\n",
      "718510\n",
      "534763\n",
      "680096\n",
      "836881\n",
      "787967\n",
      "344265\n",
      "581858\n",
      "391848\n",
      "485484\n",
      "775967\n",
      "138296\n",
      "381526\n",
      "681499\n",
      "816041\n",
      "971123\n",
      "199713\n",
      "630568\n",
      "379479\n",
      "362471\n",
      "703403\n",
      "388969\n",
      "836431\n",
      "582912\n",
      "381227\n",
      "478606\n",
      "159438\n",
      "733782\n",
      "782129\n",
      "144528\n",
      "851029\n",
      "881983\n",
      "458200\n",
      "998293\n",
      "628849\n",
      "995208\n",
      "613401\n",
      "301135\n",
      "500658\n",
      "488661\n",
      "788020\n",
      "626000\n",
      "955757\n",
      "841365\n",
      "750259\n",
      "572815\n",
      "521087\n",
      "214270\n",
      "461971\n",
      "692318\n",
      "145372\n",
      "588946\n",
      "834515\n",
      "208100\n",
      "871746\n",
      "327122\n",
      "581065\n",
      "203200\n",
      "294697\n",
      "993835\n",
      "282482\n"
     ]
    }
   ],
   "source": [
    "#TODO\n",
    "file_path = \"/Users/anousha_puvvala/Downloads/student_records.csv\"\n",
    "student_data_minor = {}\n",
    "\n",
    "with open(file_path, 'r') as file:\n",
    "    next(file)\n",
    "\n",
    "    for line in file:\n",
    "        fields = line.strip().split(',')\n",
    "        roll_number, department, credit, course_name, course_type, grade = fields\n",
    "        credit = int(credit)\n",
    "\n",
    "        if course_type == 'minor': \n",
    "            if roll_number not in student_data_minor:\n",
    "                student_data_minor[roll_number] = {\n",
    "                    'Department': department,\n",
    "                    'MinorCredits': 0\n",
    "                }\n",
    "            if department == student_data_minor[roll_number]['Department']:\n",
    "                student_data_minor[roll_number]['MinorCredits'] += credit\n",
    "\n",
    "print(\"Students who completed a minor :\")\n",
    "for roll_number, data in student_data_minor.items():\n",
    "    if data['MinorCredits'] >= 10:\n",
    "        print(f\"{roll_number}\")\n",
    "\n",
    "\n",
    "    "
   ]
  },
  {
   "cell_type": "markdown",
   "metadata": {},
   "source": [
    "#### 2.e: Print out the names of all students who completed a honours\n",
    "Atleast 10 credits with honours tag and 20 core credits"
   ]
  },
  {
   "cell_type": "code",
   "execution_count": 62,
   "metadata": {},
   "outputs": [
    {
     "name": "stdout",
     "output_type": "stream",
     "text": [
      "Students who completed honours :\n",
      "588946\n",
      "145372\n",
      "834515\n",
      "781075\n",
      "836881\n",
      "310604\n",
      "773982\n",
      "500658\n",
      "810863\n",
      "124663\n",
      "364146\n",
      "871746\n",
      "986057\n",
      "718510\n",
      "379479\n",
      "582912\n",
      "788020\n",
      "613401\n",
      "144528\n",
      "485484\n",
      "199713\n",
      "845623\n",
      "150503\n",
      "214270\n",
      "517837\n",
      "482623\n",
      "721490\n",
      "955757\n",
      "589528\n",
      "143856\n",
      "571782\n",
      "973158\n",
      "703403\n",
      "960395\n",
      "521087\n",
      "461971\n",
      "879634\n",
      "716985\n",
      "265922\n",
      "283796\n",
      "203200\n",
      "327122\n",
      "534763\n",
      "391848\n",
      "971123\n",
      "207443\n",
      "488661\n",
      "782129\n",
      "928288\n",
      "581858\n",
      "282482\n",
      "572815\n",
      "608952\n",
      "628849\n",
      "630568\n",
      "388969\n",
      "159438\n",
      "870642\n",
      "970791\n",
      "143142\n",
      "998293\n",
      "681499\n",
      "888886\n",
      "608522\n",
      "362471\n",
      "465496\n",
      "208100\n",
      "692318\n",
      "626000\n",
      "458200\n",
      "581065\n",
      "787967\n",
      "750259\n",
      "881983\n",
      "294697\n"
     ]
    }
   ],
   "source": [
    "#TODO\n",
    "file_path = \"student_records.csv\"\n",
    "student_data_honours = {}\n",
    "\n",
    "with open(file_path, 'r') as file:\n",
    "    next(file)\n",
    "\n",
    "    for line in file:\n",
    "        fields = line.strip().split(',')\n",
    "        roll_number, department, credit, course_name, course_type, grade = fields\n",
    "        credit = int(credit)\n",
    "\n",
    "        if roll_number not in student_data_honours:\n",
    "            student_data_honours[roll_number] = {\n",
    "                'HonoursCredits': 0,\n",
    "                'CoreCredits': 0\n",
    "            }\n",
    "\n",
    "        if course_type == 'honours':\n",
    "            student_data_honours[roll_number]['HonoursCredits'] += credit\n",
    "        \n",
    "        if course_type == 'core':\n",
    "            student_data_honours[roll_number]['CoreCredits'] += credit\n",
    "\n",
    "print(\"Students who completed honours :\")\n",
    "for roll_number, data in student_data_honours.items():\n",
    "    if data['HonoursCredits'] >= 10 and data['CoreCredits'] >= 20:\n",
    "        print(f\"{roll_number}\")\n",
    "\n"
   ]
  },
  {
   "cell_type": "markdown",
   "metadata": {},
   "source": [
    "# **SciPy** "
   ]
  },
  {
   "cell_type": "markdown",
   "metadata": {},
   "source": [
    "## Part A\n",
    "Minimize the function $f(x, y) = 2(x - y - 3)^2 + 4(x + 2y + 1)^4$.<br>\n",
    "With the constraints : $ x - y \\ge -3, (x + 2)^2 + (y + 1)^2 \\le 5$ <br>\n",
    "Using scipy.optimize.minimize with constraints. (Hint: Look at the examples in the official documentation)"
   ]
  },
  {
   "cell_type": "code",
   "execution_count": 30,
   "metadata": {},
   "outputs": [
    {
     "name": "stdout",
     "output_type": "stream",
     "text": [
      "Optimal solution found:\n",
      "x = 0.2349, y = -0.9285\n",
      "Minimum value of f(x, y) = 7.3450\n"
     ]
    }
   ],
   "source": [
    "#TODO\n",
    "import numpy as np\n",
    "from scipy.optimize import minimize\n",
    "\n",
    "def objective(var):\n",
    "    x, y = var\n",
    "    return 2 * (x - y - 3)**2 + 4 * (x + 2*y + 1)**4\n",
    "\n",
    "def linear_constraint(var):\n",
    "    x, y = var\n",
    "    return x - y + 3\n",
    "\n",
    "def nonlinear_constraint(var):\n",
    "    x, y = var\n",
    "    return 5 - ((x + 2)**2 + (y + 1)**2)\n",
    "\n",
    "initial_guess = [0, 0]\n",
    "\n",
    "constraints = [\n",
    "    {'type': 'ineq', 'fun': linear_constraint},   \n",
    "    {'type': 'ineq', 'fun': nonlinear_constraint} \n",
    "]\n",
    "\n",
    "result = minimize(objective, initial_guess, constraints=constraints, method='SLSQP')\n",
    "\n",
    "if result.success:\n",
    "    print(\"Optimal solution found:\")\n",
    "    print(f\"x = {result.x[0]:.4f}, y = {result.x[1]:.4f}\")\n",
    "    print(f\"Minimum value of f(x, y) = {result.fun:.4f}\")\n",
    "else:\n",
    "    print(\"Optimization failed:\", result.message)\n"
   ]
  },
  {
   "cell_type": "markdown",
   "metadata": {},
   "source": [
    "# Part B\n",
    "Evaluate the line integral of the function $f(x, y) = x^2 + y^4$ along the circle $ x^2 + y^2 = 3 $ anticlockwise (scalar integral, not vector). You must use scipy for integration but you may use parameterization"
   ]
  },
  {
   "cell_type": "code",
   "execution_count": 31,
   "metadata": {},
   "outputs": [
    {
     "name": "stdout",
     "output_type": "stream",
     "text": [
      "Line integral result: 53.053631\n",
      "Estimated error: 5.376845e-09\n"
     ]
    }
   ],
   "source": [
    "#TODO\n",
    "import numpy as np\n",
    "from scipy.integrate import quad\n",
    "\n",
    "def f(t):\n",
    "    x = np.sqrt(3) * np.cos(t)\n",
    "    y = np.sqrt(3) * np.sin(t)\n",
    "    return np.sqrt(3) * (x**2 + y**4)\n",
    "\n",
    "result, error = quad(f, 0, 2 * np.pi)\n",
    "\n",
    "print(f\"Line integral result: {result:.6f}\")\n",
    "print(f\"Estimated error: {error:.6e}\")\n"
   ]
  },
  {
   "cell_type": "markdown",
   "metadata": {},
   "source": [
    "# **Numpy**"
   ]
  },
  {
   "cell_type": "markdown",
   "metadata": {},
   "source": [
    "### Read Lisan_Al_Gaib.pdf for problem description and complete the following functions"
   ]
  },
  {
   "cell_type": "code",
   "execution_count": 32,
   "metadata": {},
   "outputs": [],
   "source": [
    "import time # to time the execution\n",
    "import numpy as np\n",
    "import matplotlib.pyplot as plt"
   ]
  },
  {
   "cell_type": "code",
   "execution_count": 33,
   "metadata": {},
   "outputs": [
    {
     "data": {
      "text/plain": [
       "array([[-2.12729941e+00,  1.75357153e+00],\n",
       "       [-3.40030291e-01, -6.70757901e-03],\n",
       "       [-3.21990680e+00, -2.22002740e+00],\n",
       "       [-3.70958194e+00,  1.33088073e+00],\n",
       "       [-9.94424941e-01,  5.40362889e-01],\n",
       "       [-3.89707753e+00,  1.84954926e+00],\n",
       "       [ 1.62213204e-01, -1.93830445e+00],\n",
       "       [-3.09087516e+00, -2.08297745e+00],\n",
       "       [-2.47878879e+00, -3.76217842e-01],\n",
       "       [-1.84027491e+00, -1.54385430e+00],\n",
       "       [-9.40735526e-01, -2.30253070e+00],\n",
       "       [-2.53927676e+00, -1.16819078e+00],\n",
       "       [-1.71965008e+00,  9.25879807e-01],\n",
       "       [-3.00163109e+00, -4.28827808e-01],\n",
       "       [-1.03792716e+00, -2.76774794e+00],\n",
       "       [-9.62275740e-01, -2.14737938e+00],\n",
       "       [-3.67474204e+00,  1.74442769e+00],\n",
       "       [ 8.28160165e-01,  1.04198674e+00],\n",
       "       [-2.47693115e+00, -2.51163943e+00],\n",
       "       [-5.78834867e-01, -7.99237531e-01],\n",
       "       [-3.38980883e+00, -5.24115449e-01],\n",
       "       [-3.82805739e+00,  1.54660201e+00],\n",
       "       [-2.70610009e+00,  3.12611422e-01],\n",
       "       [-2.44144462e+00, -3.99659894e-01],\n",
       "       [-1.26644860e+00, -2.07572772e+00],\n",
       "       [ 8.47923139e-01,  8.75664117e-01],\n",
       "       [ 6.97494708e-01,  1.47413675e+00],\n",
       "       [-1.01050011e+00,  1.60937118e+00],\n",
       "       [-3.55753749e+00, -2.02008569e+00],\n",
       "       [-3.77386356e+00, -1.37334835e+00],\n",
       "       [ 3.94338645e+00,  4.35674516e+00],\n",
       "       [ 6.14368755e+00,  4.78376663e+00],\n",
       "       [ 3.40467255e+00,  5.71348042e+00],\n",
       "       [ 2.70462112e+00,  7.01098490e+00],\n",
       "       [ 2.37275322e+00,  7.93443468e+00],\n",
       "       [ 5.86122385e+00,  3.99357841e+00],\n",
       "       [ 2.02761059e+00,  7.07730714e+00],\n",
       "       [ 5.53428672e+00,  6.64503584e+00],\n",
       "       [ 5.85635173e+00,  3.37022326e+00],\n",
       "       [ 3.79232864e+00,  3.57934530e+00],\n",
       "       [ 6.31551713e+00,  6.11649063e+00],\n",
       "       [ 3.65449012e+00,  3.31779175e+00],\n",
       "       [ 3.55491161e+00,  4.62591661e+00],\n",
       "       [ 5.64803089e+00,  6.18778736e+00],\n",
       "       [ 6.43606371e+00,  5.36107463e+00],\n",
       "       [ 2.59797123e+00,  6.56622394e+00],\n",
       "       [ 5.80392524e+00,  5.80638599e+00],\n",
       "       [ 5.85483590e+00,  5.46897798e+00],\n",
       "       [ 4.61366415e+00,  5.13770509e+00],\n",
       "       [ 2.12709563e+00,  3.53945713e+00],\n",
       "       [ 2.15714593e+00,  6.18205206e+00],\n",
       "       [ 3.57177991e+00,  5.54285346e+00],\n",
       "       [ 6.53783237e+00,  4.24646115e+00],\n",
       "       [ 4.05191462e+00,  6.77775569e+00],\n",
       "       [ 3.14399083e+00,  3.38489955e+00],\n",
       "       [ 3.44875726e+00,  3.80610644e+00],\n",
       "       [ 6.64848826e+00,  7.04060190e+00],\n",
       "       [ 5.16701878e+00,  7.35730295e+00],\n",
       "       [ 6.01836038e+00,  3.93285029e+00],\n",
       "       [ 6.46279499e+00,  5.69671121e+00]])"
      ]
     },
     "execution_count": 33,
     "metadata": {},
     "output_type": "execute_result"
    }
   ],
   "source": [
    "### TODO 1\n",
    "### Load data from data_path\n",
    "### Check the input file spice_locations.txt to understand the Data Format\n",
    "### Return : np array of size Nx2\n",
    "import numpy as np\n",
    "def load_data(data_path):\n",
    "    try:\n",
    "        coordinates = np.loadtxt(data_path, delimiter=',')\n",
    "        return coordinates\n",
    "    except Exception as e:\n",
    "        print(f\"An error occurred while loading the file: {e}\")\n",
    "        return None\n",
    "file_path=('/Users/anousha_puvvala/Downloads/spice_locations.txt')\n",
    "load_data(file_path)"
   ]
  },
  {
   "cell_type": "code",
   "execution_count": 34,
   "metadata": {},
   "outputs": [
    {
     "name": "stdout",
     "output_type": "stream",
     "text": [
      "[[ 2.02761059  7.07730714]\n",
      " [-0.99442494  0.54036289]]\n"
     ]
    }
   ],
   "source": [
    "### TODO 2.1\n",
    "### If init_centers is None, initialize the centers by selecting K data points at random without replacement\n",
    "### Else, use the centers provided in init_centers\n",
    "### Return : np array of size Kx2\n",
    "import numpy as np\n",
    "\n",
    "def initialize_centers(data, K, init_centers=None):\n",
    "    if init_centers is None:\n",
    "        indices = np.random.choice(data.shape[0], size=K, replace=False)\n",
    "        centers = data[indices]\n",
    "        return centers\n",
    "    else:\n",
    "        centers = init_centers\n",
    "        return centers\n",
    "    \n",
    "k=2\n",
    "centers=initialize_centers(load_data(file_path),k)\n",
    "print(centers)\n"
   ]
  },
  {
   "cell_type": "code",
   "execution_count": 35,
   "metadata": {},
   "outputs": [
    {
     "data": {
      "text/plain": [
       "array([1., 1., 1., 1., 1., 1., 1., 1., 1., 1., 1., 1., 1., 1., 1., 1., 1.,\n",
       "       1., 1., 1., 1., 1., 1., 1., 1., 1., 1., 1., 1., 1., 1., 1., 1., 1.,\n",
       "       1., 1., 1., 1., 1., 1., 1., 1., 1., 1., 1., 1., 1., 1., 1., 1., 1.,\n",
       "       1., 1., 1., 1., 1., 1., 1., 1., 1.])"
      ]
     },
     "execution_count": 35,
     "metadata": {},
     "output_type": "execute_result"
    }
   ],
   "source": [
    "### TODO 2.2\n",
    "### Initialize the labels to all ones to size (N,) where N is the number of data points\n",
    "### Return : np array of size N\n",
    "import numpy as np\n",
    "\n",
    "def initialize_labels(data):\n",
    "    N = data.shape[0]  \n",
    "    labels = np.ones(N)  \n",
    "    return labels\n",
    "initialize_labels(load_data(file_path))"
   ]
  },
  {
   "cell_type": "code",
   "execution_count": 36,
   "metadata": {},
   "outputs": [
    {
     "name": "stdout",
     "output_type": "stream",
     "text": [
      "[[ 6.75317984  1.65990354]\n",
      " [ 7.46920263  0.85294692]\n",
      " [10.67599495  3.54577552]\n",
      " [ 8.12014745  2.82789603]\n",
      " [ 7.20169     0.        ]\n",
      " [ 7.90135316  3.18423633]\n",
      " [ 9.20657155  2.73525201]\n",
      " [10.49331741  3.35812717]\n",
      " [ 8.70991791  1.74455045]\n",
      " [ 9.44907206  2.24931622]\n",
      " [ 9.83831472  2.84340052]\n",
      " [ 9.42574645  2.30341546]\n",
      " [ 7.20291752  0.82132502]\n",
      " [ 9.03522737  2.22894754]\n",
      " [10.31128659  3.30839684]\n",
      " [ 9.69712647  2.68793454]\n",
      " [ 7.80745981  2.93834507]\n",
      " [ 6.15335467  1.89035525]\n",
      " [10.59428113  3.39301383]\n",
      " [ 8.29659652  1.4025849 ]\n",
      " [ 9.33434832  2.62125506]\n",
      " [ 8.05465994  3.0069902 ]\n",
      " [ 8.25645959  1.72676071]\n",
      " [ 8.71076865  1.72554594]\n",
      " [ 9.72773731  2.63019523]\n",
      " [ 6.31284711  1.87261137]\n",
      " [ 5.75888241  1.9324921 ]\n",
      " [ 6.255273    1.06912914]\n",
      " [10.67503795  3.62290531]\n",
      " [10.25039904  3.37454733]\n",
      " [ 3.3274096   6.24073353]\n",
      " [ 4.71194414  8.30416313]\n",
      " [ 1.93812357  6.79067034]\n",
      " [ 0.68025136  7.4533141 ]\n",
      " [ 0.92400815  8.12466531]\n",
      " [ 4.91995666  7.67623721]\n",
      " [ 0.          7.20169   ]\n",
      " [ 3.53321893  8.93818258]\n",
      " [ 5.32932732  7.41223656]\n",
      " [ 3.91790338  5.66995802]\n",
      " [ 4.3942361   9.1939357 ]\n",
      " [ 4.09642442  5.41539679]\n",
      " [ 2.88824583  6.11459011]\n",
      " [ 3.72809451  8.71869386]\n",
      " [ 4.73074128  8.85728081]\n",
      " [ 0.76584418  7.01543381]\n",
      " [ 3.98444387  8.59933512]\n",
      " [ 4.15143063  8.43822379]\n",
      " [ 3.23260408  7.25163558]\n",
      " [ 3.5392485   4.32879394]\n",
      " [ 0.90457784  6.46227944]\n",
      " [ 2.17692604  6.77311882]\n",
      " [ 5.32501546  8.39464499]\n",
      " [ 2.04634745  8.02312981]\n",
      " [ 3.85748346  5.02174013]\n",
      " [ 3.56656865  5.51424963]\n",
      " [ 4.62102346 10.03330601]\n",
      " [ 3.15186952  9.18880082]\n",
      " [ 5.08071775  7.79025859]\n",
      " [ 4.64509482  9.06631442]]\n"
     ]
    }
   ],
   "source": [
    "### TODO 3.1 : E step\n",
    "### For Each data point, find the distance to each center\n",
    "### Return : np array of size NxK\n",
    "import numpy as np\n",
    "\n",
    "def compute_distances(data, centers):\n",
    "    N = data.shape[0] \n",
    "    K = centers.shape[0] \n",
    "    distances = np.zeros((N, K))  \n",
    "    for i in range(N):\n",
    "        for j in range(K):\n",
    "            distances[i, j] = np.linalg.norm(data[i] - centers[j])\n",
    "    return distances\n",
    "distances=compute_distances(load_data(file_path),centers)\n",
    "print(distances)\n"
   ]
  },
  {
   "cell_type": "code",
   "execution_count": 37,
   "metadata": {},
   "outputs": [
    {
     "name": "stdout",
     "output_type": "stream",
     "text": [
      "[1 1 1 1 1 1 1 1 1 1 1 1 1 1 1 1 1 1 1 1 1 1 1 1 1 1 1 1 1 1 0 0 0 0 0 0 0\n",
      " 0 0 0 0 0 0 0 0 0 0 0 0 0 0 0 0 0 0 0 0 0 0 0]\n"
     ]
    }
   ],
   "source": [
    "### TODO 3.2 : E step\n",
    "### For Each data point, assign the label of the nearest center\n",
    "### Return : np array of size N\n",
    "def update_labels(distances):\n",
    "    try:\n",
    "        labels = np.argmin(distances, axis=1)\n",
    "        return labels\n",
    "    except Exception as e:\n",
    "        return None\n",
    "labels=update_labels(distances)\n",
    "print(labels)"
   ]
  },
  {
   "cell_type": "code",
   "execution_count": 38,
   "metadata": {},
   "outputs": [
    {
     "name": "stdout",
     "output_type": "stream",
     "text": [
      "[[4.51518371 5.35201025]\n",
      " [0.         0.        ]]\n"
     ]
    }
   ],
   "source": [
    "### TODO 4 : M step\n",
    "### Update the centers to the mean of the data points assigned to it\n",
    "### Return : np array of size Kx2\n",
    "import numpy as np\n",
    "\n",
    "def update_centers(data, labels, K):\n",
    "    updated_centers = np.zeros((K, 2))  \n",
    "    try:\n",
    "        for k in range(K):\n",
    "            assigned_points = data[labels == k]\n",
    "            if len(assigned_points) > 0:\n",
    "                updated_centers[k] = np.mean(assigned_points, axis=0)\n",
    "                return updated_centers\n",
    "    except Exception as e:\n",
    "        return None\n",
    "updated_centers=update_centers(load_data(file_path),labels,2)\n",
    "print(updated_centers)"
   ]
  },
  {
   "cell_type": "code",
   "execution_count": 43,
   "metadata": {},
   "outputs": [
    {
     "data": {
      "text/plain": [
       "False"
      ]
     },
     "execution_count": 43,
     "metadata": {},
     "output_type": "execute_result"
    }
   ],
   "source": [
    "### TODO 6 : Check convergence\n",
    "### Check if the labels have changed from the previous iteration\n",
    "### Return : True / False\n",
    "def check_termination(labels1, labels2):\n",
    "    try:\n",
    "        return (np.array_equal(labels, updated_labels))\n",
    "    except Exception as e:\n",
    "        return None\n",
    "updated_labels=update_labels(compute_distances(load_data(file_path),updated_centers))\n",
    "check_termination(labels, updated_labels)"
   ]
  },
  {
   "cell_type": "code",
   "execution_count": 40,
   "metadata": {},
   "outputs": [],
   "source": [
    "### DON'T CHANGE ANYTHING IN THE FOLLOWING FUNCTION\n",
    "import time\n",
    "def kmeans(data_path:str, K:int, init_centers):\n",
    "    '''\n",
    "    Input :\n",
    "        data (type str): path to the file containing the data\n",
    "        K (type int): number of clusters\n",
    "        init_centers (type numpy.ndarray): initial centers. shape = (K, 2) or None\n",
    "    Output :\n",
    "        centers (type numpy.ndarray): final centers. shape = (K, 2)\n",
    "        labels (type numpy.ndarray): label of each data point. shape = (N,)\n",
    "        time (type float): time taken by the algorithm to converge in seconds\n",
    "    N is the number of data points each of shape (2,)\n",
    "    '''\n",
    "    data = load_data(data_path)    \n",
    "    centers = initialize_centers(data, K, init_centers)\n",
    "    labels = initialize_labels(data)\n",
    "\n",
    "    start_time = time.time() # Time stamp \n",
    "\n",
    "    while True:\n",
    "        distances = compute_distances(data, centers)\n",
    "        labels_new = update_labels(distances)\n",
    "        centers = update_centers(data, labels_new, K)\n",
    "        if check_termination(labels, labels_new): break\n",
    "        else: labels = labels_new\n",
    " \n",
    "    end_time = time.time() # Time stamp after the algorithm ends\n",
    "    return centers, labels, end_time - start_time "
   ]
  },
  {
   "cell_type": "code",
   "execution_count": 41,
   "metadata": {},
   "outputs": [
    {
     "data": {
      "text/plain": [
       "<module 'matplotlib.pyplot' from '/opt/anaconda3/lib/python3.12/site-packages/matplotlib/pyplot.py'>"
      ]
     },
     "execution_count": 41,
     "metadata": {},
     "output_type": "execute_result"
    },
    {
     "data": {
      "image/png": "[encoded data removed]",
      "text/plain": [
       "<Figure size 640x480 with 1 Axes>"
      ]
     },
     "metadata": {},
     "output_type": "display_data"
    }
   ],
   "source": [
    "### TODO 7\n",
    "import matplotlib.pyplot as plt\n",
    "def visualise(data_path, labels, centers):\n",
    "    data = load_data(data_path)\n",
    "    centers = update_centers(load_data(file_path),updated_labels,2)\n",
    "    # Scatter plot of the data points\n",
    "    plt.scatter(data[:, 0], data[:, 1], c=labels, s=50, cmap='viridis')\n",
    "    plt.scatter(centers[:, 0], centers[:, 1], c='black', s=200, alpha=0.5)\n",
    "\n",
    "    ### Set title as 'K-means clustering'\n",
    "\n",
    "    ### Set xlabel as 'Longitude'\n",
    "\n",
    "    ### Set ylabel as 'Latitude'\n",
    "\n",
    "    ### Save the plot as 'kmeans.png'\n",
    "\n",
    "\n",
    "    ## DO NOT CHANGE THE FOLLOWING LINE\n",
    "    return plt\n",
    "visualise(file_path, updated_labels, updated_centers)"
   ]
  },
  {
   "cell_type": "code",
   "execution_count": 42,
   "metadata": {},
   "outputs": [
    {
     "name": "stdout",
     "output_type": "stream",
     "text": [
      "Time taken for the algorithm to converge: 0.0011317729949951172\n"
     ]
    },
    {
     "data": {
      "text/plain": [
       "<module 'matplotlib.pyplot' from '/opt/anaconda3/lib/python3.12/site-packages/matplotlib/pyplot.py'>"
      ]
     },
     "execution_count": 42,
     "metadata": {},
     "output_type": "execute_result"
    },
    {
     "data": {
      "image/png": "[encoded data removed]",
      "text/plain": [
       "<Figure size 640x480 with 1 Axes>"
      ]
     },
     "metadata": {},
     "output_type": "display_data"
    }
   ],
   "source": [
    "### After you have completed the above functions, run the following code to generate the plot\n",
    "data_path = file_path\n",
    "K, init_centers = 2, None\n",
    "centers, labels, time_taken = kmeans(data_path, K, init_centers)\n",
    "print('Time taken for the algorithm to converge:', time_taken)\n",
    "visualise(data_path, labels, centers)"
   ]
  }
 ],
 "metadata": {
  "kernelspec": {
   "display_name": "Python 3",
   "language": "python",
   "name": "python3"
  },
  "language_info": {
   "codemirror_mode": {
    "name": "ipython",
    "version": 3
   },
   "file_extension": ".py",
   "mimetype": "text/x-python",
   "name": "python",
   "nbconvert_exporter": "python",
   "pygments_lexer": "ipython3",
   "version": "3.12.4"
  }
 },
 "nbformat": 4,
 "nbformat_minor": 2
}
